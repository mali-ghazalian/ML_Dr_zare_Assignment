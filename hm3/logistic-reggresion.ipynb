{
 "cells": [
  {
   "cell_type": "code",
   "execution_count": 71,
   "id": "87286c2c",
   "metadata": {},
   "outputs": [],
   "source": [
    "import pandas as pd\n",
    "import numpy as np\n",
    "from collections import Counter"
   ]
  },
  {
   "cell_type": "code",
   "execution_count": 72,
   "id": "e110cef9",
   "metadata": {},
   "outputs": [],
   "source": [
    "df = pd.read_csv(\"Weekly.csv\")"
   ]
  },
  {
   "cell_type": "code",
   "execution_count": 73,
   "id": "7179776f",
   "metadata": {},
   "outputs": [
    {
     "data": {
      "text/plain": [
       "(1089, 9)"
      ]
     },
     "execution_count": 73,
     "metadata": {},
     "output_type": "execute_result"
    }
   ],
   "source": [
    "df.shape"
   ]
  },
  {
   "cell_type": "markdown",
   "id": "1a615799",
   "metadata": {},
   "source": [
    "# pre-proccessing data\n"
   ]
  },
  {
   "cell_type": "markdown",
   "id": "04e0ce52",
   "metadata": {},
   "source": [
    "###### change text value in direction column with numeric {0, 1} values"
   ]
  },
  {
   "cell_type": "code",
   "execution_count": 74,
   "id": "c1fdc251",
   "metadata": {},
   "outputs": [],
   "source": [
    "# Define function to : Iterate through the text column and apply the mapping\n",
    "def text_mapping_to_num(mapping, data_row, data, default_value):\n",
    "    for index, row in data.iterrows():\n",
    "        text_value = row[data_row]\n",
    "        if text_value in mapping:\n",
    "            data.at[index, data_row] = mapping[text_value]"
   ]
  },
  {
   "cell_type": "code",
   "execution_count": 75,
   "id": "7d5d817d",
   "metadata": {},
   "outputs": [],
   "source": [
    "#mapping dictionary to map up and down to 1 , 0\n",
    "direction_mapping = {\"Down\": 0, \"Up\": 1}"
   ]
  },
  {
   "cell_type": "code",
   "execution_count": 76,
   "id": "bbaf11a5",
   "metadata": {},
   "outputs": [],
   "source": [
    "text_mapping_to_num(direction_mapping, 'Direction', df, 0)"
   ]
  },
  {
   "cell_type": "code",
   "execution_count": 77,
   "id": "6c75d7c6",
   "metadata": {},
   "outputs": [
    {
     "data": {
      "text/html": [
       "<div>\n",
       "<style scoped>\n",
       "    .dataframe tbody tr th:only-of-type {\n",
       "        vertical-align: middle;\n",
       "    }\n",
       "\n",
       "    .dataframe tbody tr th {\n",
       "        vertical-align: top;\n",
       "    }\n",
       "\n",
       "    .dataframe thead th {\n",
       "        text-align: right;\n",
       "    }\n",
       "</style>\n",
       "<table border=\"1\" class=\"dataframe\">\n",
       "  <thead>\n",
       "    <tr style=\"text-align: right;\">\n",
       "      <th></th>\n",
       "      <th>Year</th>\n",
       "      <th>Lag1</th>\n",
       "      <th>Lag2</th>\n",
       "      <th>Lag3</th>\n",
       "      <th>Lag4</th>\n",
       "      <th>Lag5</th>\n",
       "      <th>Volume</th>\n",
       "      <th>Today</th>\n",
       "      <th>Direction</th>\n",
       "    </tr>\n",
       "  </thead>\n",
       "  <tbody>\n",
       "    <tr>\n",
       "      <th>0</th>\n",
       "      <td>1990</td>\n",
       "      <td>0.816</td>\n",
       "      <td>1.572</td>\n",
       "      <td>-3.936</td>\n",
       "      <td>-0.229</td>\n",
       "      <td>-3.484</td>\n",
       "      <td>0.154976</td>\n",
       "      <td>-0.270</td>\n",
       "      <td>0</td>\n",
       "    </tr>\n",
       "    <tr>\n",
       "      <th>1</th>\n",
       "      <td>1990</td>\n",
       "      <td>-0.270</td>\n",
       "      <td>0.816</td>\n",
       "      <td>1.572</td>\n",
       "      <td>-3.936</td>\n",
       "      <td>-0.229</td>\n",
       "      <td>0.148574</td>\n",
       "      <td>-2.576</td>\n",
       "      <td>0</td>\n",
       "    </tr>\n",
       "    <tr>\n",
       "      <th>2</th>\n",
       "      <td>1990</td>\n",
       "      <td>-2.576</td>\n",
       "      <td>-0.270</td>\n",
       "      <td>0.816</td>\n",
       "      <td>1.572</td>\n",
       "      <td>-3.936</td>\n",
       "      <td>0.159837</td>\n",
       "      <td>3.514</td>\n",
       "      <td>1</td>\n",
       "    </tr>\n",
       "    <tr>\n",
       "      <th>3</th>\n",
       "      <td>1990</td>\n",
       "      <td>3.514</td>\n",
       "      <td>-2.576</td>\n",
       "      <td>-0.270</td>\n",
       "      <td>0.816</td>\n",
       "      <td>1.572</td>\n",
       "      <td>0.161630</td>\n",
       "      <td>0.712</td>\n",
       "      <td>1</td>\n",
       "    </tr>\n",
       "    <tr>\n",
       "      <th>4</th>\n",
       "      <td>1990</td>\n",
       "      <td>0.712</td>\n",
       "      <td>3.514</td>\n",
       "      <td>-2.576</td>\n",
       "      <td>-0.270</td>\n",
       "      <td>0.816</td>\n",
       "      <td>0.153728</td>\n",
       "      <td>1.178</td>\n",
       "      <td>1</td>\n",
       "    </tr>\n",
       "  </tbody>\n",
       "</table>\n",
       "</div>"
      ],
      "text/plain": [
       "   Year   Lag1   Lag2   Lag3   Lag4   Lag5    Volume  Today Direction\n",
       "0  1990  0.816  1.572 -3.936 -0.229 -3.484  0.154976 -0.270         0\n",
       "1  1990 -0.270  0.816  1.572 -3.936 -0.229  0.148574 -2.576         0\n",
       "2  1990 -2.576 -0.270  0.816  1.572 -3.936  0.159837  3.514         1\n",
       "3  1990  3.514 -2.576 -0.270  0.816  1.572  0.161630  0.712         1\n",
       "4  1990  0.712  3.514 -2.576 -0.270  0.816  0.153728  1.178         1"
      ]
     },
     "execution_count": 77,
     "metadata": {},
     "output_type": "execute_result"
    }
   ],
   "source": [
    "df.head()"
   ]
  },
  {
   "cell_type": "markdown",
   "id": "39488cbd",
   "metadata": {},
   "source": [
    "##### Define X, y and test and train data"
   ]
  },
  {
   "cell_type": "code",
   "execution_count": 78,
   "id": "7d6048c4",
   "metadata": {},
   "outputs": [],
   "source": [
    "# Define the percentage of data to use for training (80%)\n",
    "train_percentage = 0.8\n",
    "\n",
    "# Calculate the number of samples for training and testing\n",
    "samples = len(df)\n",
    "num_of_train = int(train_percentage * samples)\n",
    "num_of_test = samples - num_of_train"
   ]
  },
  {
   "cell_type": "code",
   "execution_count": 79,
   "id": "29d45e30",
   "metadata": {},
   "outputs": [
    {
     "data": {
      "text/html": [
       "<div>\n",
       "<style scoped>\n",
       "    .dataframe tbody tr th:only-of-type {\n",
       "        vertical-align: middle;\n",
       "    }\n",
       "\n",
       "    .dataframe tbody tr th {\n",
       "        vertical-align: top;\n",
       "    }\n",
       "\n",
       "    .dataframe thead th {\n",
       "        text-align: right;\n",
       "    }\n",
       "</style>\n",
       "<table border=\"1\" class=\"dataframe\">\n",
       "  <thead>\n",
       "    <tr style=\"text-align: right;\">\n",
       "      <th></th>\n",
       "      <th>Year</th>\n",
       "      <th>Lag1</th>\n",
       "      <th>Lag2</th>\n",
       "      <th>Lag3</th>\n",
       "      <th>Lag4</th>\n",
       "      <th>Lag5</th>\n",
       "      <th>Volume</th>\n",
       "      <th>Today</th>\n",
       "      <th>Direction</th>\n",
       "    </tr>\n",
       "  </thead>\n",
       "  <tbody>\n",
       "    <tr>\n",
       "      <th>848</th>\n",
       "      <td>2006</td>\n",
       "      <td>-1.875</td>\n",
       "      <td>-2.604</td>\n",
       "      <td>1.156</td>\n",
       "      <td>-0.051</td>\n",
       "      <td>1.719</td>\n",
       "      <td>2.648372</td>\n",
       "      <td>1.036</td>\n",
       "      <td>1</td>\n",
       "    </tr>\n",
       "    <tr>\n",
       "      <th>229</th>\n",
       "      <td>1994</td>\n",
       "      <td>0.768</td>\n",
       "      <td>-3.414</td>\n",
       "      <td>-0.048</td>\n",
       "      <td>-0.317</td>\n",
       "      <td>0.612</td>\n",
       "      <td>0.254938</td>\n",
       "      <td>0.751</td>\n",
       "      <td>1</td>\n",
       "    </tr>\n",
       "    <tr>\n",
       "      <th>464</th>\n",
       "      <td>1999</td>\n",
       "      <td>0.241</td>\n",
       "      <td>3.219</td>\n",
       "      <td>1.849</td>\n",
       "      <td>-0.874</td>\n",
       "      <td>-1.308</td>\n",
       "      <td>0.607868</td>\n",
       "      <td>3.731</td>\n",
       "      <td>1</td>\n",
       "    </tr>\n",
       "    <tr>\n",
       "      <th>853</th>\n",
       "      <td>2006</td>\n",
       "      <td>-0.563</td>\n",
       "      <td>-0.061</td>\n",
       "      <td>-2.788</td>\n",
       "      <td>0.630</td>\n",
       "      <td>1.036</td>\n",
       "      <td>2.255366</td>\n",
       "      <td>2.065</td>\n",
       "      <td>1</td>\n",
       "    </tr>\n",
       "    <tr>\n",
       "      <th>350</th>\n",
       "      <td>1996</td>\n",
       "      <td>-1.393</td>\n",
       "      <td>1.450</td>\n",
       "      <td>-0.114</td>\n",
       "      <td>2.225</td>\n",
       "      <td>-0.122</td>\n",
       "      <td>0.410840</td>\n",
       "      <td>0.407</td>\n",
       "      <td>1</td>\n",
       "    </tr>\n",
       "    <tr>\n",
       "      <th>...</th>\n",
       "      <td>...</td>\n",
       "      <td>...</td>\n",
       "      <td>...</td>\n",
       "      <td>...</td>\n",
       "      <td>...</td>\n",
       "      <td>...</td>\n",
       "      <td>...</td>\n",
       "      <td>...</td>\n",
       "      <td>...</td>\n",
       "    </tr>\n",
       "    <tr>\n",
       "      <th>1078</th>\n",
       "      <td>2010</td>\n",
       "      <td>0.948</td>\n",
       "      <td>1.650</td>\n",
       "      <td>-0.212</td>\n",
       "      <td>2.050</td>\n",
       "      <td>1.446</td>\n",
       "      <td>4.449160</td>\n",
       "      <td>0.586</td>\n",
       "      <td>1</td>\n",
       "    </tr>\n",
       "    <tr>\n",
       "      <th>841</th>\n",
       "      <td>2006</td>\n",
       "      <td>-0.620</td>\n",
       "      <td>-0.329</td>\n",
       "      <td>2.016</td>\n",
       "      <td>-0.451</td>\n",
       "      <td>-0.171</td>\n",
       "      <td>2.170618</td>\n",
       "      <td>0.049</td>\n",
       "      <td>1</td>\n",
       "    </tr>\n",
       "    <tr>\n",
       "      <th>482</th>\n",
       "      <td>1999</td>\n",
       "      <td>0.735</td>\n",
       "      <td>-1.597</td>\n",
       "      <td>2.870</td>\n",
       "      <td>-2.177</td>\n",
       "      <td>4.223</td>\n",
       "      <td>0.869660</td>\n",
       "      <td>-0.535</td>\n",
       "      <td>0</td>\n",
       "    </tr>\n",
       "    <tr>\n",
       "      <th>102</th>\n",
       "      <td>1992</td>\n",
       "      <td>-0.807</td>\n",
       "      <td>0.906</td>\n",
       "      <td>-1.011</td>\n",
       "      <td>3.169</td>\n",
       "      <td>5.018</td>\n",
       "      <td>0.215200</td>\n",
       "      <td>-1.613</td>\n",
       "      <td>0</td>\n",
       "    </tr>\n",
       "    <tr>\n",
       "      <th>115</th>\n",
       "      <td>1992</td>\n",
       "      <td>-1.687</td>\n",
       "      <td>2.906</td>\n",
       "      <td>0.682</td>\n",
       "      <td>-0.483</td>\n",
       "      <td>-1.896</td>\n",
       "      <td>0.212092</td>\n",
       "      <td>0.858</td>\n",
       "      <td>1</td>\n",
       "    </tr>\n",
       "  </tbody>\n",
       "</table>\n",
       "<p>1089 rows × 9 columns</p>\n",
       "</div>"
      ],
      "text/plain": [
       "      Year   Lag1   Lag2   Lag3   Lag4   Lag5    Volume  Today Direction\n",
       "848   2006 -1.875 -2.604  1.156 -0.051  1.719  2.648372  1.036         1\n",
       "229   1994  0.768 -3.414 -0.048 -0.317  0.612  0.254938  0.751         1\n",
       "464   1999  0.241  3.219  1.849 -0.874 -1.308  0.607868  3.731         1\n",
       "853   2006 -0.563 -0.061 -2.788  0.630  1.036  2.255366  2.065         1\n",
       "350   1996 -1.393  1.450 -0.114  2.225 -0.122  0.410840  0.407         1\n",
       "...    ...    ...    ...    ...    ...    ...       ...    ...       ...\n",
       "1078  2010  0.948  1.650 -0.212  2.050  1.446  4.449160  0.586         1\n",
       "841   2006 -0.620 -0.329  2.016 -0.451 -0.171  2.170618  0.049         1\n",
       "482   1999  0.735 -1.597  2.870 -2.177  4.223  0.869660 -0.535         0\n",
       "102   1992 -0.807  0.906 -1.011  3.169  5.018  0.215200 -1.613         0\n",
       "115   1992 -1.687  2.906  0.682 -0.483 -1.896  0.212092  0.858         1\n",
       "\n",
       "[1089 rows x 9 columns]"
      ]
     },
     "execution_count": 79,
     "metadata": {},
     "output_type": "execute_result"
    }
   ],
   "source": [
    "df.sample(frac = 1)"
   ]
  },
  {
   "cell_type": "markdown",
   "id": "23da7004",
   "metadata": {},
   "source": [
    "### Define X, y and split data into train and test"
   ]
  },
  {
   "cell_type": "code",
   "execution_count": 80,
   "id": "26cb2e7c",
   "metadata": {},
   "outputs": [],
   "source": [
    "train_data = df[:num_of_train]\n",
    "test_data = df[num_of_train:]"
   ]
  },
  {
   "cell_type": "code",
   "execution_count": 81,
   "id": "a8087503",
   "metadata": {},
   "outputs": [
    {
     "name": "stdout",
     "output_type": "stream",
     "text": [
      "(871, 9)\n",
      "(218, 9)\n"
     ]
    }
   ],
   "source": [
    "print(train_data.shape)\n",
    "print(test_data.shape)\n"
   ]
  },
  {
   "cell_type": "code",
   "execution_count": 82,
   "id": "c40abc9d",
   "metadata": {},
   "outputs": [],
   "source": [
    "X_train = train_data.iloc[:, 1:7]\n",
    "y_train = train_data.iloc[:, -1]\n",
    "X_test = test_data.iloc[:, 1:7]\n",
    "y_test = test_data.iloc[:, -1]"
   ]
  },
  {
   "cell_type": "code",
   "execution_count": 83,
   "id": "51360b24",
   "metadata": {},
   "outputs": [],
   "source": [
    "y_train = y_train.values\n",
    "y_test = y_test.values"
   ]
  },
  {
   "cell_type": "markdown",
   "id": "cf360949",
   "metadata": {},
   "source": [
    "##### Adding column of 1's in fearure matrix for bias term"
   ]
  },
  {
   "cell_type": "code",
   "execution_count": 84,
   "id": "45fc1b68",
   "metadata": {},
   "outputs": [],
   "source": [
    "#Add column of 1's into X_train\n",
    "X_train_bias = np.c_[np.ones((X_train.shape[0], 1)) ,X_train]\n",
    "\n",
    "#add column of ones into X_test\n",
    "X_test_bias = np.c_[np.ones((X_test.shape[0], 1)), X_test]"
   ]
  },
  {
   "cell_type": "markdown",
   "id": "fb454bd4",
   "metadata": {},
   "source": [
    "### SDG Logistic regression"
   ]
  },
  {
   "cell_type": "code",
   "execution_count": 85,
   "id": "52eed4bf",
   "metadata": {},
   "outputs": [],
   "source": [
    "def sigmoid(y):\n",
    "    return 1/(1+ np.exp(-y.astype(float)))"
   ]
  },
  {
   "cell_type": "code",
   "execution_count": 86,
   "id": "e22cc332",
   "metadata": {},
   "outputs": [],
   "source": [
    "def logistic_regresion(X, y, lr, epochs, batch_size):\n",
    "    N, D = X.shape\n",
    "    W = np.zeros(D)\n",
    "    gradient = np.inf\n",
    "    for i in range(epochs):\n",
    "        \n",
    "        for b in range(0, N, batch_size):\n",
    "            X_batch = X[i:i+batch_size]\n",
    "            y_batch = y[i:i+batch_size]\n",
    "#             lr = 1 / batch_size\n",
    "\n",
    "            linear_pred = np.dot(X, W)\n",
    "            pred = sigmoid(linear_pred)\n",
    "\n",
    "            if(len(pred) < batch_size):\n",
    "                break\n",
    "                \n",
    "            gradient = (1/N)*np.dot(X.T, (pred - y))\n",
    "            W = W - lr*gradient\n",
    "        \n",
    "    return W"
   ]
  },
  {
   "cell_type": "markdown",
   "id": "a109b1c1",
   "metadata": {},
   "source": [
    "### Training on Train data"
   ]
  },
  {
   "cell_type": "code",
   "execution_count": 87,
   "id": "02e1be71",
   "metadata": {},
   "outputs": [],
   "source": [
    "#Train w with training set\n",
    "batch_size = {10, 20, 30, 40, 50, 100}\n",
    "weights = []\n",
    "for b in batch_size:\n",
    "    w = logistic_regresion(X_train_bias, y_train, 0.01, 200, 100)\n",
    "    weights.append(w)"
   ]
  },
  {
   "cell_type": "markdown",
   "id": "f185179b",
   "metadata": {},
   "source": [
    "### Predict on test data"
   ]
  },
  {
   "cell_type": "code",
   "execution_count": 88,
   "id": "71f3b28b",
   "metadata": {},
   "outputs": [],
   "source": [
    "#Predict on test data\n",
    "c_list = []\n",
    "for w in weights:\n",
    "    linear_pred = np.dot(X_test_bias, w)\n",
    "    y_pred = sigmoid(linear_pred)\n",
    "    class_prediction = [0 if y<=0.5 else 1 for y in y_pred]\n",
    "    c_list.append(class_prediction)"
   ]
  },
  {
   "cell_type": "markdown",
   "id": "85045761",
   "metadata": {},
   "source": [
    "### Accuracy calculation"
   ]
  },
  {
   "cell_type": "code",
   "execution_count": 89,
   "id": "c021c7e1",
   "metadata": {},
   "outputs": [],
   "source": [
    "#calculate accuracy\n",
    "acc_list = []\n",
    "for c in c_list:\n",
    "    acc = np.sum(class_prediction != y_test)/ len(y_test)\n",
    "    acc_list.append(acc)"
   ]
  },
  {
   "cell_type": "code",
   "execution_count": 90,
   "id": "6ce488ae",
   "metadata": {},
   "outputs": [
    {
     "name": "stdout",
     "output_type": "stream",
     "text": [
      "[0.46788990825688076, 0.46788990825688076, 0.46788990825688076, 0.46788990825688076, 0.46788990825688076, 0.46788990825688076]\n"
     ]
    }
   ],
   "source": [
    "print(acc_list)"
   ]
  },
  {
   "cell_type": "markdown",
   "id": "5ced6a93",
   "metadata": {},
   "source": [
    "# KNN Classifier"
   ]
  },
  {
   "cell_type": "code",
   "execution_count": 91,
   "id": "9dafd420",
   "metadata": {},
   "outputs": [],
   "source": [
    "# pd.to_numeric(df['DataFrame Column'])\n",
    "for x in X_train:\n",
    "    pd.to_numeric(df[x])\n",
    "for x in X_test:\n",
    "    pd.to_numeric(df[x])"
   ]
  },
  {
   "cell_type": "code",
   "execution_count": 92,
   "id": "174b3bca",
   "metadata": {},
   "outputs": [],
   "source": [
    "def euclidean_distance(test_point, training_data):\n",
    "    distances = []\n",
    "    for x_train in training_data:\n",
    "        \n",
    "        distances.append(np.sqrt(np.sum((test_point - x_train)**2)))\n",
    "    return distances"
   ]
  },
  {
   "cell_type": "code",
   "execution_count": 93,
   "id": "ab13c430",
   "metadata": {},
   "outputs": [],
   "source": [
    "#Create KNN classifier\n",
    "def KNN_classifier(test_point, training_data):\n",
    "    distances = []\n",
    "    for x_train in training_data:\n",
    "        distances.append(euclidean_distance(test_point, x_train))\n",
    "    return distances"
   ]
  },
  {
   "cell_type": "code",
   "execution_count": 94,
   "id": "b4f270ca",
   "metadata": {},
   "outputs": [],
   "source": [
    "def prediction(X_test, X_train, y_train, k=1):\n",
    "    predictions = []\n",
    "    for x in X_test:\n",
    "        k_nearest_labels = []\n",
    "        distances = KNN_classifier(x, X_train)\n",
    "        #get the closest k\n",
    "        k_indices = np.argsort(distances)[:k]\n",
    "        for i in k_indices:\n",
    "            k_nearest_labels.append(y_train[i])\n",
    "            \n",
    "        # majority vote\n",
    "        most_common = Counter(k_nearest_labels).most_common()\n",
    "        predictions.append(most_common[0][0])\n",
    "    \n",
    "    return predictions"
   ]
  },
  {
   "cell_type": "code",
   "execution_count": null,
   "id": "2e04ccd8",
   "metadata": {},
   "outputs": [],
   "source": [
    "k_values = {3, 5, 7}\n",
    "test_errors = {}\n",
    "for k in k_values:\n",
    "    # Make predictions on the test set for each k\n",
    "    predictions  = prediction(X_test.values, X_train.values, y_train, k)\n",
    "    number_of_error = np.sum(predictions != y_test)\n",
    "    # Calculate the test error \n",
    "    test_error = number_of_error / len(y_test)\n",
    "    # Store the test error for this k\n",
    "    test_errors[k] = test_error\n",
    "    \n",
    "for k, error in test_errors.items():\n",
    "    print(f\"k={k}: Test Error={error}\")"
   ]
  },
  {
   "cell_type": "code",
   "execution_count": null,
   "id": "cc45cec2",
   "metadata": {},
   "outputs": [],
   "source": [
    "predictions  = prediction(X_test.values, X_train.values, y_train, 1)\n",
    "print(predictions)"
   ]
  },
  {
   "cell_type": "code",
   "execution_count": 26,
   "id": "97e5aab3",
   "metadata": {},
   "outputs": [],
   "source": [
    "#Define accuracy\n",
    "knn_acc = []\n",
    "for y in predictions:\n",
    "    acc = np.sum(y == y_test)/len(y_test)\n",
    "    knn_acc.append(acc)"
   ]
  },
  {
   "cell_type": "code",
   "execution_count": 27,
   "id": "de91a632",
   "metadata": {},
   "outputs": [
    {
     "name": "stdout",
     "output_type": "stream",
     "text": [
      "[]\n"
     ]
    }
   ],
   "source": [
    "print(knn_acc)"
   ]
  }
 ],
 "metadata": {
  "kernelspec": {
   "display_name": "Python 3 (ipykernel)",
   "language": "python",
   "name": "python3"
  },
  "language_info": {
   "codemirror_mode": {
    "name": "ipython",
    "version": 3
   },
   "file_extension": ".py",
   "mimetype": "text/x-python",
   "name": "python",
   "nbconvert_exporter": "python",
   "pygments_lexer": "ipython3",
   "version": "3.11.5"
  }
 },
 "nbformat": 4,
 "nbformat_minor": 5
}

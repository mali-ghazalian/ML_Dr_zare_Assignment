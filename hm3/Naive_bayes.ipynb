{
 "cells": [
  {
   "cell_type": "code",
   "execution_count": 435,
   "id": "ef6f2416",
   "metadata": {
    "scrolled": true
   },
   "outputs": [],
   "source": [
    "import pandas as pd\n",
    "import numpy as np\n",
    "from sklearn.model_selection import train_test_split"
   ]
  },
  {
   "cell_type": "code",
   "execution_count": 436,
   "id": "2cc2129f",
   "metadata": {},
   "outputs": [],
   "source": [
    "df  = pd.read_csv('breast.csv')"
   ]
  },
  {
   "cell_type": "code",
   "execution_count": 437,
   "id": "7b156cd3",
   "metadata": {},
   "outputs": [],
   "source": [
    "# Define X, y:\n",
    "X = df.drop(columns = 'class')\n",
    "y = df.iloc[:, -1]"
   ]
  },
  {
   "cell_type": "code",
   "execution_count": 438,
   "id": "0a7f9938",
   "metadata": {},
   "outputs": [
    {
     "name": "stdout",
     "output_type": "stream",
     "text": [
      "[2 4]\n"
     ]
    }
   ],
   "source": [
    "#Separate Data, based on classes\n",
    "class_labels = np.unique(y)\n",
    "print(class_labels)"
   ]
  },
  {
   "cell_type": "markdown",
   "id": "eeb4187f",
   "metadata": {},
   "source": [
    "# Using MLE"
   ]
  },
  {
   "cell_type": "code",
   "execution_count": 439,
   "id": "9ad0152a",
   "metadata": {},
   "outputs": [],
   "source": [
    "def separate_classes(class_labels, X, y):\n",
    "    classes = {}\n",
    "    for idx, c in enumerate(class_labels):\n",
    "        X_c = X[y == c]\n",
    "        if c not in classes:\n",
    "            classes[c] = []\n",
    "        classes[c].append(X_c)\n",
    "\n",
    "    return classes"
   ]
  },
  {
   "cell_type": "code",
   "execution_count": 440,
   "id": "7ca511cf",
   "metadata": {},
   "outputs": [],
   "source": [
    "#Define class probability for each class\n",
    "def class_prob(X_train, classes):\n",
    "    N, D = X_train.shape\n",
    "    class_prob = {}\n",
    "    for i, instances in classes.items():\n",
    "        class_prob[i] = len(instances[0]) / N\n",
    "    return class_prob"
   ]
  },
  {
   "cell_type": "code",
   "execution_count": 441,
   "id": "09e1173a",
   "metadata": {},
   "outputs": [],
   "source": [
    "#calculate conditional probability\n",
    "def con_prob(classes):\n",
    "    conditional_prob = {}\n",
    "    for c, instances in classes.items():\n",
    "        features = [list(feature) for feature in zip(*instances)]\n",
    "        for value in features:\n",
    "            number_of_xi = instances[0][value].value_counts()[1]\n",
    "            class_con_prob = number_of_xi / len(instances[0])\n",
    "            if c not in conditional_prob:\n",
    "                conditional_prob[c] = []\n",
    "            conditional_prob[c].append(class_con_prob) \n",
    "        \n",
    "    return conditional_prob"
   ]
  },
  {
   "cell_type": "code",
   "execution_count": 442,
   "id": "7231172d",
   "metadata": {},
   "outputs": [],
   "source": [
    "#predict posterior on test data\n",
    "def naive_bayes_classifier(class_prob, con_prob, test_data):\n",
    "    best_class = []\n",
    "    for i, instance in enumerate(test_data.values):\n",
    "        instance_posterior = {}\n",
    "        for c, prior in class_prob.items():\n",
    "            posterior = prior\n",
    "            for idx, x in enumerate(instance):\n",
    "                if(x == 1):\n",
    "                    posterior *= con_prob[c][idx]\n",
    "            instance_posterior[c] = posterior\n",
    "        best_class.append(max(instance_posterior))\n",
    "    return best_class"
   ]
  },
  {
   "cell_type": "code",
   "execution_count": 447,
   "id": "44766bdc",
   "metadata": {},
   "outputs": [],
   "source": [
    "accuracy = {}\n",
    "for i in range(20):\n",
    "    # Split Data to 20% test and 80% training data\n",
    "    X_train, X_test, y_train, y_test = train_test_split(X, y, test_size=0.2)\n",
    "    \n",
    "    #calculate conditional_probability\n",
    "    classes = separate_classes(class_labels, X_train, y_train)\n",
    "    class_probability = class_prob(X_train, classes)\n",
    "    conditional_probability = con_prob(classes)\n",
    "    best_class = naive_bayes_classifier(class_probability, conditional_probability, X_test)\n",
    "    #calculate accuracy\n",
    "    y_true = y_test.values\n",
    "    y_pred = best_class\n",
    "    acc = np.sum(y_pred == y_true)/len(y_true)\n",
    "    accuracy[i] = acc"
   ]
  },
  {
   "cell_type": "code",
   "execution_count": 448,
   "id": "3398f055",
   "metadata": {},
   "outputs": [
    {
     "name": "stdout",
     "output_type": "stream",
     "text": [
      "Accurecies: \n",
      " {0: 0.36496350364963503, 1: 0.35036496350364965, 2: 0.291970802919708, 3: 0.36496350364963503, 4: 0.40145985401459855, 5: 0.29927007299270075, 6: 0.36496350364963503, 7: 0.36496350364963503, 8: 0.32116788321167883, 9: 0.34306569343065696, 10: 0.35036496350364965, 11: 0.43795620437956206, 12: 0.36496350364963503, 13: 0.3722627737226277, 14: 0.30656934306569344, 15: 0.3722627737226277, 16: 0.31386861313868614, 17: 0.35766423357664234, 18: 0.3795620437956204, 19: 0.3284671532846715}\n"
     ]
    }
   ],
   "source": [
    "print(\"Accurecies: \\n\", accuracy)"
   ]
  },
  {
   "cell_type": "code",
   "execution_count": 449,
   "id": "b05e8080",
   "metadata": {},
   "outputs": [
    {
     "name": "stdout",
     "output_type": "stream",
     "text": [
      "Mean: 0.35255474452554747\n"
     ]
    }
   ],
   "source": [
    "#define mean of accuracy\n",
    "mean_value = sum(accuracy.values()) / len(accuracy)\n",
    "print(\"Mean:\", mean_value)"
   ]
  },
  {
   "cell_type": "markdown",
   "id": "8a4f4cf9",
   "metadata": {},
   "source": [
    "# Using MAP Estimation"
   ]
  },
  {
   "cell_type": "code",
   "execution_count": 450,
   "id": "995affe8",
   "metadata": {},
   "outputs": [],
   "source": [
    "X_train, X_test, y_train, y_test = train_test_split(X, y, test_size=0.2, random_state=42)\n",
    "\n",
    "# Define Beta prior distribution parameters for conditional probabilities\n",
    "alpha = 1 \n",
    "beta = 2   "
   ]
  },
  {
   "cell_type": "code",
   "execution_count": 451,
   "id": "e6840698",
   "metadata": {},
   "outputs": [],
   "source": [
    "# Separate training data based on class labels\n",
    "classes = separate_classes(class_labels, X_train, y_train)"
   ]
  },
  {
   "cell_type": "code",
   "execution_count": 452,
   "id": "b3f62c3a",
   "metadata": {},
   "outputs": [],
   "source": [
    "#Define class probability for each class\n",
    "def bera_class_prob(X_train, classes, alpha, beta):\n",
    "    N, D = X_train.shape\n",
    "    class_prob = {}\n",
    "    for i, instances in classes.items():\n",
    "        class_prob[i] = (len(instances[0]) + alpha) / (N + alpha + beta)\n",
    "    return class_prob"
   ]
  },
  {
   "cell_type": "code",
   "execution_count": 453,
   "id": "4dea85bd",
   "metadata": {},
   "outputs": [],
   "source": [
    "# Estimate conditional probabilities for each feature given class using MAP with Beta prior\n",
    "def Beta_dist_con_prob(calsses, alpha, beta):\n",
    "    conditional_prob = {}\n",
    "    for c, instances in classes.items():\n",
    "        features = [list(feature) for feature in zip(*instances)]\n",
    "        for value in features:\n",
    "            number_of_xi = instances[0][value].value_counts()[1] + alpha\n",
    "            class_con_prob = number_of_xi / (len(instances[0]) + alpha + beta)\n",
    "            if c not in conditional_prob:\n",
    "                conditional_prob[c] = []\n",
    "            conditional_prob[c].append(class_con_prob) \n",
    "    return conditional_prob"
   ]
  },
  {
   "cell_type": "code",
   "execution_count": 454,
   "id": "b3df782e",
   "metadata": {},
   "outputs": [],
   "source": [
    "#predict posterior on test data\n",
    "def beta_naive_bayes_classifier(class_prob, con_prob, test_data):\n",
    "    best_class = []\n",
    "    for i, instance in enumerate(test_data.values):\n",
    "        instance_posterior = {}\n",
    "        for c, prior in class_prob.items():\n",
    "            posterior = prior\n",
    "            for idx, x in enumerate(instance):\n",
    "                if(x == 1):\n",
    "                    posterior *= con_prob[c][idx]\n",
    "            instance_posterior[c] = posterior\n",
    "        best_class.append(max(instance_posterior))\n",
    "    return best_class"
   ]
  },
  {
   "cell_type": "code",
   "execution_count": 455,
   "id": "7b80fa2a",
   "metadata": {},
   "outputs": [],
   "source": [
    "#calculate conditional_probability on training data\n",
    "classes = separate_classes(class_labels, X_train, y_train)\n",
    "class_probability = bera_class_prob(X_train, classes, alpha, beta)\n",
    "conditional_probability = Beta_dist_con_prob(classes, alpha, beta)"
   ]
  },
  {
   "cell_type": "code",
   "execution_count": 456,
   "id": "c3192f1a",
   "metadata": {},
   "outputs": [
    {
     "name": "stdout",
     "output_type": "stream",
     "text": [
      "class probability: \n",
      " {2: 0.6666666666666666, 4: 0.331511839708561}\n"
     ]
    }
   ],
   "source": [
    "print(\"class probability: \\n\", class_probability)"
   ]
  },
  {
   "cell_type": "code",
   "execution_count": 457,
   "id": "8725ad71",
   "metadata": {},
   "outputs": [],
   "source": [
    "#predict on test data   \n",
    "map_best_class = beta_naive_bayes_classifier(class_probability, conditional_probability, X_test)"
   ]
  },
  {
   "cell_type": "code",
   "execution_count": 458,
   "id": "aa5bca55",
   "metadata": {},
   "outputs": [],
   "source": [
    "#calculate accuracy\n",
    "y_true = y_test.values\n",
    "y_pred = map_best_class\n",
    "map_acc = np.sum(y_pred == y_true)/len(y_true)"
   ]
  },
  {
   "cell_type": "code",
   "execution_count": 460,
   "id": "4b77f593",
   "metadata": {},
   "outputs": [
    {
     "name": "stdout",
     "output_type": "stream",
     "text": [
      "Error: \n",
      " 0.5766423357664234\n"
     ]
    }
   ],
   "source": [
    "print(\"Error: \\n\", 1 - map_acc)"
   ]
  },
  {
   "cell_type": "markdown",
   "id": "b570f886",
   "metadata": {},
   "source": [
    "# Report"
   ]
  },
  {
   "cell_type": "markdown",
   "id": "5fee86d0",
   "metadata": {},
   "source": [
    "1- first of all read the dataset and define class labels\n",
    "\n",
    "2- after that we nead to seperate train data into defferent classes based on class labels, i did this with function separate_classes\n",
    "\n",
    "3- then for each classes we nead to calculate class probability(θC) which function class_prob do this for us\n",
    "\n",
    "4- after that the function con_prob calculate conditional probability (θA1∣C) given class y = 2 and y =4 for each feature we have (9 featurs) \n",
    "\n",
    "5- then seperate data into training and test data for 20 times and calculate bets class prediction for each instances with function naive_bayes_classifier\n",
    "\n",
    "6- the function naive_bayes_classifier, calculates θC*θA1∣C for every instance given y=2 and y=4 and choose the highest probability to predict best class for every point in test data\n",
    "\n",
    "7- then calculate all accuracy for all times we did this process and report the mean of them"
   ]
  }
 ],
 "metadata": {
  "kernelspec": {
   "display_name": "Python 3 (ipykernel)",
   "language": "python",
   "name": "python3"
  },
  "language_info": {
   "codemirror_mode": {
    "name": "ipython",
    "version": 3
   },
   "file_extension": ".py",
   "mimetype": "text/x-python",
   "name": "python",
   "nbconvert_exporter": "python",
   "pygments_lexer": "ipython3",
   "version": "3.11.5"
  }
 },
 "nbformat": 4,
 "nbformat_minor": 5
}
